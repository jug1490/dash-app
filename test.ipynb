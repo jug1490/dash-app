{
 "cells": [
  {
   "cell_type": "code",
   "execution_count": 9,
   "metadata": {},
   "outputs": [
    {
     "name": "stdout",
     "output_type": "stream",
     "text": [
      "Collecting nbformat\n",
      "  Downloading nbformat-5.10.4-py3-none-any.whl (78 kB)\n",
      "     |████████████████████████████████| 78 kB 1.7 MB/s             \n",
      "\u001b[?25hCollecting fastjsonschema>=2.15\n",
      "  Downloading fastjsonschema-2.20.0-py3-none-any.whl (23 kB)\n",
      "Requirement already satisfied: traitlets>=5.1 in ./lib/python3.9/site-packages (from nbformat) (5.14.3)\n",
      "Collecting jsonschema>=2.6\n",
      "  Downloading jsonschema-4.22.0-py3-none-any.whl (88 kB)\n",
      "     |████████████████████████████████| 88 kB 3.9 MB/s             \n",
      "\u001b[?25hRequirement already satisfied: jupyter-core!=5.0.*,>=4.12 in ./lib/python3.9/site-packages (from nbformat) (5.7.2)\n",
      "Collecting referencing>=0.28.4\n",
      "  Downloading referencing-0.35.1-py3-none-any.whl (26 kB)\n",
      "Collecting rpds-py>=0.7.1\n",
      "  Downloading rpds_py-0.18.1-cp39-cp39-macosx_10_12_x86_64.whl (327 kB)\n",
      "     |████████████████████████████████| 327 kB 11.4 MB/s            \n",
      "\u001b[?25hCollecting attrs>=22.2.0\n",
      "  Downloading attrs-23.2.0-py3-none-any.whl (60 kB)\n",
      "     |████████████████████████████████| 60 kB 10.0 MB/s            \n",
      "\u001b[?25hCollecting jsonschema-specifications>=2023.03.6\n",
      "  Downloading jsonschema_specifications-2023.12.1-py3-none-any.whl (18 kB)\n",
      "Requirement already satisfied: platformdirs>=2.5 in ./lib/python3.9/site-packages (from jupyter-core!=5.0.*,>=4.12->nbformat) (4.2.2)\n",
      "Installing collected packages: rpds-py, attrs, referencing, jsonschema-specifications, jsonschema, fastjsonschema, nbformat\n",
      "Successfully installed attrs-23.2.0 fastjsonschema-2.20.0 jsonschema-4.22.0 jsonschema-specifications-2023.12.1 nbformat-5.10.4 referencing-0.35.1 rpds-py-0.18.1\n",
      "\u001b[33mWARNING: You are using pip version 21.3.1; however, version 24.1.1 is available.\n",
      "You should consider upgrading via the '/Users/ksl/ds/dash-app/bin/python -m pip install --upgrade pip' command.\u001b[0m\n",
      "Note: you may need to restart the kernel to use updated packages.\n"
     ]
    }
   ],
   "source": [
    "%pip install nbformat"
   ]
  },
  {
   "cell_type": "code",
   "execution_count": 1,
   "metadata": {},
   "outputs": [
    {
     "name": "stdout",
     "output_type": "stream",
     "text": [
      "<class 'pandas.core.frame.DataFrame'>\n",
      "RangeIndex: 26406 entries, 0 to 26405\n",
      "Data columns (total 12 columns):\n",
      " #   Column                               Non-Null Count  Dtype  \n",
      "---  ------                               --------------  -----  \n",
      " 0   Unnamed: 0                           26406 non-null  int64  \n",
      " 1   Region                               26406 non-null  object \n",
      " 2   Date                                 26406 non-null  object \n",
      " 3   Estimated_fire_area                  26406 non-null  float64\n",
      " 4   Mean_estimated_fire_brightness       26406 non-null  float64\n",
      " 5   Mean_estimated_fire_radiative_power  26406 non-null  float64\n",
      " 6   Mean_confidence                      26406 non-null  float64\n",
      " 7   Std_confidence                       24199 non-null  float64\n",
      " 8   Var_confidence                       24199 non-null  float64\n",
      " 9   Count                                26406 non-null  int64  \n",
      " 10  Replaced                             26406 non-null  object \n",
      " 11  Year                                 26406 non-null  int64  \n",
      "dtypes: float64(6), int64(3), object(3)\n",
      "memory usage: 2.4+ MB\n"
     ]
    },
    {
     "data": {
      "text/plain": [
       "0    NSW\n",
       "1    NSW\n",
       "2    NSW\n",
       "3    NSW\n",
       "4    NSW\n",
       "Name: Region, dtype: object"
      ]
     },
     "execution_count": 1,
     "metadata": {},
     "output_type": "execute_result"
    }
   ],
   "source": [
    "import pandas as pd\n",
    "import plotly.express as px\n",
    "\n",
    "df = pd.read_csv('f.csv')\n",
    "df['Year'] = list(map(int, map(lambda d: d.split('/')[2], df['Date'])))\n",
    "df.info()\n",
    "df['Region'].head()"
   ]
  },
  {
   "cell_type": "code",
   "execution_count": 25,
   "metadata": {},
   "outputs": [
    {
     "name": "stderr",
     "output_type": "stream",
     "text": [
      "/var/folders/8r/08gs7b0j27n7mvlw3smys4th0000gn/T/ipykernel_17304/3454250283.py:11: SettingWithCopyWarning:\n",
      "\n",
      "\n",
      "A value is trying to be set on a copy of a slice from a DataFrame.\n",
      "Try using .loc[row_indexer,col_indexer] = value instead\n",
      "\n",
      "See the caveats in the documentation: https://pandas.pydata.org/pandas-docs/stable/user_guide/indexing.html#returning-a-view-versus-a-copy\n",
      "\n"
     ]
    },
    {
     "data": {
      "text/plain": [
       "array([ 4,  5,  6,  7,  8,  9, 10, 11, 12, 13, 14, 15, 16, 17, 18, 19, 20,\n",
       "       21, 22, 25, 26, 27, 28, 29, 30, 31,  1,  3, 23, 24,  2])"
      ]
     },
     "execution_count": 25,
     "metadata": {},
     "output_type": "execute_result"
    }
   ],
   "source": [
    " #data\n",
    "input_region = 'NSW'\n",
    "input_year = 2008\n",
    "\n",
    "# Filter by region\n",
    "region_data = df[df['Region'] == input_region]\n",
    "\n",
    "region_data['Date'].head()\n",
    "# Extract Year and Month\n",
    "# region_data['Year'] = list(map(int, map(lambda d: d.split('/')[2], region_data.loc[:, 'Date'])))\n",
    "region_data['Month'] = list(map(int, map(lambda d: d.split('/')[0], region_data.loc[:,'Date'])))\n",
    "region_data['Month'].unique()\n",
    "\n",
    "# y_r_data = region_data[region_data['Year']== int(input_year)]\n",
    "#Plot one - Monthly Average Estimated Fire Area\n",
    "\n",
    "# est_data = y_r_data.groupby('Month')['Estimated_fire_area'].mean().reset_index()\n",
    "# est_data['Month'].unique()\n",
    "# fig1 = px.pie(values=est_data['Estimated_fire_area'], names=est_data['Month'], title=\"Monthly Average Estimated Fire Area in year\".format(input_region,input_year))\n",
    "# fig1.show()\n",
    "\n",
    "#Plot two - Monthly Average Count of Pixels for Presumed Vegetation Fires\n",
    "# veg_data = y_r_data.groupby('Year')['Count'].mean().reset_index()\n",
    "# veg_data.head()\n",
    "# # fig2 = px.bar(veg_data, title='{} : Average Count of Pixels for Presumed Vegetation Fires in year {}'.format(input_region,input_year))\n",
    "# fig2 = px.bar(x=veg_data['Year'], y=veg_data['Count'], title='{} :Average Count of Pixels for Presumed Vegetation Fires in year {}'.format(input_region,input_year))\n",
    "# fig2.show()"
   ]
  },
  {
   "cell_type": "code",
   "execution_count": null,
   "metadata": {},
   "outputs": [],
   "source": []
  }
 ],
 "metadata": {
  "kernelspec": {
   "display_name": "dash-app",
   "language": "python",
   "name": "python3"
  },
  "language_info": {
   "codemirror_mode": {
    "name": "ipython",
    "version": 3
   },
   "file_extension": ".py",
   "mimetype": "text/x-python",
   "name": "python",
   "nbconvert_exporter": "python",
   "pygments_lexer": "ipython3",
   "version": "3.9.10"
  }
 },
 "nbformat": 4,
 "nbformat_minor": 2
}
